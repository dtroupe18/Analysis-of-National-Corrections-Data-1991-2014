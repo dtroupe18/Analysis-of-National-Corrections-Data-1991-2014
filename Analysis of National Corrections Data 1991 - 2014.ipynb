{
 "cells": [
  {
   "cell_type": "markdown",
   "metadata": {},
   "source": [
    "## If you run this entire notebook it will take a long time to finish and require about 16 gigabytes of RAM. \n",
    "\n",
    "## Dataset is National Corrections Reporting Program, 1991-2014: Selected Variables (ICPSR 36404) - DS1:  Term Records\n",
    "\n",
    "\n",
    "## Available here: http://www.icpsr.umich.edu/cgi-bin/bob/terms2?study=36404&ds=1&bundle=delimited&path=NACJD\n",
    "\n"
   ]
  },
  {
   "cell_type": "code",
   "execution_count": 1,
   "metadata": {
    "collapsed": true
   },
   "outputs": [],
   "source": [
    "import pandas as pd\n",
    "import numpy as np\n",
    "import matplotlib\n",
    "import matplotlib.pyplot as plt\n",
    "%matplotlib inline  \n",
    "data_path = \"36404-0001-Data.tsv\"\n",
    "#place the file in the same directory as the notebook"
   ]
  },
  {
   "cell_type": "code",
   "execution_count": 2,
   "metadata": {
    "collapsed": true
   },
   "outputs": [],
   "source": [
    "def build_df(filename):\n",
    "    df = pd.read_csv(data_path, header=0, sep=\"\\t\")\n",
    "    return df"
   ]
  },
  {
   "cell_type": "code",
   "execution_count": 145,
   "metadata": {
    "collapsed": false
   },
   "outputs": [
    {
     "name": "stderr",
     "output_type": "stream",
     "text": [
      "//anaconda/lib/python3.5/site-packages/IPython/core/interactiveshell.py:2825: DtypeWarning: Columns (10) have mixed types. Specify dtype option on import or set low_memory=False.\n",
      "  if self.run_code(code, result):\n"
     ]
    }
   ],
   "source": [
    "df = build_df(data_path)"
   ]
  },
  {
   "cell_type": "code",
   "execution_count": 146,
   "metadata": {
    "collapsed": false
   },
   "outputs": [
    {
     "name": "stderr",
     "output_type": "stream",
     "text": [
      "//anaconda/lib/python3.5/site-packages/ipykernel/__main__.py:1: FutureWarning: convert_objects is deprecated.  Use the data-type specific converters pd.to_datetime, pd.to_timedelta and pd.to_numeric.\n",
      "  if __name__ == '__main__':\n"
     ]
    }
   ],
   "source": [
    "df = df.convert_objects(convert_numeric=True) # puts NAN on blank rows and converts to int64"
   ]
  },
  {
   "cell_type": "code",
   "execution_count": 5,
   "metadata": {
    "collapsed": false
   },
   "outputs": [
    {
     "data": {
      "text/plain": [
       "<matplotlib.legend.Legend at 0x1117ffc18>"
      ]
     },
     "execution_count": 5,
     "metadata": {},
     "output_type": "execute_result"
    },
    {
     "data": {
      "image/png": "[encoded data removed]",
      "text/plain": [
       "<matplotlib.figure.Figure at 0x1117cce48>"
      ]
     },
     "metadata": {},
     "output_type": "display_data"
    }
   ],
   "source": [
    "missing_data = df.isnull().sum()\n",
    "missing_data.plot(kind='bar', color='Red', title=\"Number of Rows Missing Data\", grid=True).legend(loc='center left', bbox_to_anchor=(1, 0.5))"
   ]
  },
  {
   "cell_type": "markdown",
   "metadata": {},
   "source": [
    "## As we can see from the above graph some columns such as PARELIG_YEAR are missing almost 80% of their values. Therefore, we cannot impute the values in this column as more data is missing than available. "
   ]
  },
  {
   "cell_type": "code",
   "execution_count": 147,
   "metadata": {
    "collapsed": true
   },
   "outputs": [],
   "source": [
    "complete_rows = df.dropna() "
   ]
  },
  {
   "cell_type": "code",
   "execution_count": 7,
   "metadata": {
    "collapsed": false
   },
   "outputs": [
    {
     "name": "stdout",
     "output_type": "stream",
     "text": [
      "720189\n"
     ]
    }
   ],
   "source": [
    "print(len(complete_rows))"
   ]
  },
  {
   "cell_type": "markdown",
   "metadata": {},
   "source": [
    "# Additionally, only 720,189 rows are complete which is only about 6% of the data. We will come back to this issue later for now let's make our data easier to read."
   ]
  },
  {
   "cell_type": "code",
   "execution_count": 8,
   "metadata": {
    "collapsed": true
   },
   "outputs": [],
   "source": [
    "def convert_state_in_df(df):\n",
    "    df.ix[(df.STATE == 1), 'STATE'] = 'Alabama'\n",
    "    df.ix[(df.STATE == 2), 'STATE'] = 'Alaska'\n",
    "    df.ix[(df.STATE == 4), 'STATE'] = 'Arizona'\n",
    "    df.ix[(df.STATE == 5), 'STATE'] = 'Arkansas'\n",
    "    df.ix[(df.STATE == 6), 'STATE'] = 'California'\n",
    "    df.ix[(df.STATE == 8), 'STATE'] = 'Colorado'\n",
    "    df.ix[(df.STATE == 9), 'STATE'] = 'Connecticut'\n",
    "    df.ix[(df.STATE == 10), 'STATE'] = 'Delaware'\n",
    "    df.ix[(df.STATE == 11), 'STATE'] = 'District of Columbia'\n",
    "    df.ix[(df.STATE == 12), 'STATE'] = 'Florida'\n",
    "    df.ix[(df.STATE == 13), 'STATE'] = 'Georgia'\n",
    "    df.ix[(df.STATE == 15), 'STATE'] = 'Hawaii'\n",
    "    df.ix[(df.STATE == 16), 'STATE'] = 'Idaho'\n",
    "    df.ix[(df.STATE == 17), 'STATE'] = 'Illinois'\n",
    "    df.ix[(df.STATE == 18), 'STATE'] = 'Indiana'\n",
    "    df.ix[(df.STATE == 19), 'STATE'] = 'Iowa'\n",
    "    df.ix[(df.STATE == 20), 'STATE'] = 'Kansas'\n",
    "    df.ix[(df.STATE == 21), 'STATE'] = 'Kentucky'\n",
    "    df.ix[(df.STATE == 22), 'STATE'] = 'Louisiana'\n",
    "    df.ix[(df.STATE == 23), 'STATE'] = 'Maine'\n",
    "    df.ix[(df.STATE == 24), 'STATE'] = 'Maryland'\n",
    "    df.ix[(df.STATE == 25), 'STATE'] = 'Massachusetts'\n",
    "    df.ix[(df.STATE == 26), 'STATE'] = 'Michigan'\n",
    "    df.ix[(df.STATE == 27), 'STATE'] = 'Minnesota'\n",
    "    df.ix[(df.STATE == 28), 'STATE'] = 'Mississippi'\n",
    "    df.ix[(df.STATE == 29), 'STATE'] = 'Missouri'\n",
    "    df.ix[(df.STATE == 30), 'STATE'] = 'Montana'\n",
    "    df.ix[(df.STATE == 31), 'STATE'] = 'Nebraska'\n",
    "    df.ix[(df.STATE == 32), 'STATE'] = 'Nevada'\n",
    "    df.ix[(df.STATE == 33), 'STATE'] = 'New Hampshire'\n",
    "    df.ix[(df.STATE == 34), 'STATE'] = 'New Jersey'\n",
    "    df.ix[(df.STATE == 35), 'STATE'] = 'New Mexico'\n",
    "    df.ix[(df.STATE == 36), 'STATE'] = 'New York'\n",
    "    df.ix[(df.STATE == 37), 'STATE'] = 'North Carolina'\n",
    "    df.ix[(df.STATE == 38), 'STATE'] = 'North Dakota'\n",
    "    df.ix[(df.STATE == 39), 'STATE'] = 'Ohio'\n",
    "    df.ix[(df.STATE == 40), 'STATE'] = 'Oklahoma'\n",
    "    df.ix[(df.STATE == 41), 'STATE'] = 'Oregon'\n",
    "    df.ix[(df.STATE == 42), 'STATE'] = 'Pennsylvania'\n",
    "    df.ix[(df.STATE == 44), 'STATE'] = 'Rhode Island'\n",
    "    df.ix[(df.STATE == 45), 'STATE'] = 'South Carolina'\n",
    "    df.ix[(df.STATE == 46), 'STATE'] = 'South Dakota'\n",
    "    df.ix[(df.STATE == 47), 'STATE'] = 'Tennessee'\n",
    "    df.ix[(df.STATE == 48), 'STATE'] = 'Texas'\n",
    "    df.ix[(df.STATE == 49), 'STATE'] = 'Utah'\n",
    "    df.ix[(df.STATE == 50), 'STATE'] = 'Vermont'\n",
    "    df.ix[(df.STATE == 51), 'STATE'] = 'Virgina'\n",
    "    df.ix[(df.STATE == 53), 'STATE'] = 'Washington'\n",
    "    df.ix[(df.STATE == 54), 'STATE'] = 'West Virginia'\n",
    "    df.ix[(df.STATE == 55), 'STATE'] = 'Wisconsin'\n",
    "    df.ix[(df.STATE == 56), 'STATE'] = 'Wyoming'\n",
    "\n",
    "    return df"
   ]
  },
  {
   "cell_type": "code",
   "execution_count": 9,
   "metadata": {
    "collapsed": true
   },
   "outputs": [],
   "source": [
    "def add_sex_to_df(df):\n",
    "    df.ix[(df.SEX == 1), 'SEX'] = 'Male'\n",
    "    df.ix[(df.SEX == 2), 'SEX'] = 'Female'\n",
    "    \n",
    "    return df"
   ]
  },
  {
   "cell_type": "code",
   "execution_count": 10,
   "metadata": {
    "collapsed": true
   },
   "outputs": [],
   "source": [
    "def add_offgeneral_to_df(df):\n",
    "    df.ix[(df.OFFGENERAL == 1), 'OFFGENERAL'] = 'Violent'\n",
    "    df.ix[(df.OFFGENERAL == 2), 'OFFGENERAL'] = 'Property'\n",
    "    df.ix[(df.OFFGENERAL == 3), 'OFFGENERAL'] = 'Drugs'\n",
    "    df.ix[(df.OFFGENERAL == 4), 'OFFGENERAL'] = 'Public Order'\n",
    "    df.ix[(df.OFFGENERAL == 5), 'OFFGENERAL'] = 'Other'\n",
    "    df.ix[(df.OFFGENERAL == 9), 'OFFGENERAL'] = 'Missing'\n",
    "    \n",
    "    return df"
   ]
  },
  {
   "cell_type": "code",
   "execution_count": 11,
   "metadata": {
    "collapsed": true
   },
   "outputs": [],
   "source": [
    "def add_race_to_df(df):\n",
    "    df.ix[(df.RACE == 1), 'RACE'] = 'White'\n",
    "    df.ix[(df.RACE == 2), 'RACE'] = 'Black'\n",
    "    df.ix[(df.RACE == 3), 'RACE'] = 'Hispanic'\n",
    "    df.ix[(df.RACE == 4), 'RACE'] = 'Other'\n",
    "    df.ix[(df.RACE == 9), 'RACE'] = 'Missing'\n",
    "    \n",
    "    return df"
   ]
  },
  {
   "cell_type": "code",
   "execution_count": 12,
   "metadata": {
    "collapsed": false
   },
   "outputs": [],
   "source": [
    "def add_sentlgth_to_df(df):\n",
    "    df.ix[(df.SENTLGTH == 0), 'SENTLGTH'] = '0 - 1'\n",
    "    df.ix[(df.SENTLGTH == 1), 'SENTLGTH'] = '1 - 1.9'\n",
    "    df.ix[(df.SENTLGTH == 2), 'SENTLGTH'] = '2 - 4.9'\n",
    "    df.ix[(df.SENTLGTH == 3), 'SENTLGTH'] = '5 - 9.9'\n",
    "    df.ix[(df.SENTLGTH == 4), 'SENTLGTH'] = '10 - 24.9'\n",
    "    df.ix[(df.SENTLGTH == 5), 'SENTLGTH'] = '25+'\n",
    "    df.ix[(df.SENTLGTH == 6), 'SENTLGTH'] = 'Life'\n",
    "    df.ix[(df.SENTLGTH == 9), 'SENTLGTH'] = 'Missing'\n",
    "    \n",
    "    return df"
   ]
  },
  {
   "cell_type": "code",
   "execution_count": 13,
   "metadata": {
    "collapsed": true
   },
   "outputs": [],
   "source": [
    "def add_off_detail_to_df(df):\n",
    "    df.ix[(df.OFFDETAIL == 1), 'OFFDETAIL'] = 'Murder'\n",
    "    df.ix[(df.OFFDETAIL == 2), 'OFFDETAIL'] = 'Negligent Manslaughter'\n",
    "    df.ix[(df.OFFDETAIL == 3), 'OFFDETAIL'] = 'Rape / Sexual Assault'\n",
    "    df.ix[(df.OFFDETAIL == 4), 'OFFDETAIL'] = 'Robbery'\n",
    "    df.ix[(df.OFFDETAIL == 5), 'OFFDETAIL'] = 'Assault'\n",
    "    df.ix[(df.OFFDETAIL == 6), 'OFFDETAIL'] = 'Other Violent'\n",
    "    df.ix[(df.OFFDETAIL == 7), 'OFFDETAIL'] = 'Burglary'\n",
    "    df.ix[(df.OFFDETAIL == 8), 'OFFDETAIL'] = 'Larceny'\n",
    "    df.ix[(df.OFFDETAIL == 9), 'OFFDETAIL'] = 'GTA'\n",
    "    df.ix[(df.OFFDETAIL == 10), 'OFFDETAIL'] = 'Fraud'\n",
    "    df.ix[(df.OFFDETAIL == 11), 'OFFDETAIL'] = 'Other Property'\n",
    "    df.ix[(df.OFFDETAIL == 12), 'OFFDETAIL'] = 'Drugs'\n",
    "    df.ix[(df.OFFDETAIL == 13), 'OFFDETAIL'] = 'Public Order'\n",
    "    df.ix[(df.OFFDETAIL == 14), 'OFFDETAIL'] = 'Other'\n",
    "    df.ix[(df.OFFDETAIL == 99), 'OFFDETAIL'] = 'Missing'\n",
    "   \n",
    "    return df"
   ]
  },
  {
   "cell_type": "code",
   "execution_count": 14,
   "metadata": {
    "collapsed": true
   },
   "outputs": [],
   "source": [
    "df = add_race_to_df(df)\n",
    "df = add_offgeneral_to_df(df)\n",
    "df = add_sex_to_df(df)\n",
    "df = convert_state_in_df(df)\n",
    "df = add_sentlgth_to_df(df)\n",
    "df['count'] = 1"
   ]
  },
  {
   "cell_type": "code",
   "execution_count": 98,
   "metadata": {
    "collapsed": true
   },
   "outputs": [],
   "source": [
    "df = add_off_detail_to_df(df)"
   ]
  },
  {
   "cell_type": "markdown",
   "metadata": {},
   "source": [
    "# Next I add in class_label to mark repeat offenders where 2 means they are a repeat offender and 1 means they are not a repeat offender"
   ]
  },
  {
   "cell_type": "code",
   "execution_count": 71,
   "metadata": {
    "collapsed": false
   },
   "outputs": [],
   "source": [
    "dup = df.set_index('ABT_INMATE_ID').index.duplicated(keep=False)\n",
    "dup = dup * 1\n",
    "class_label = [x + 1 for x in dup]\n",
    "se = pd.Series(class_label)\n",
    "df.insert(0, 'class_label', se.values)\n",
    "# df.drop('ABT_INMATE_ID', axis=1, inplace = True)"
   ]
  },
  {
   "cell_type": "markdown",
   "metadata": {},
   "source": [
    "# Basic Visuals and Statistics"
   ]
  },
  {
   "cell_type": "code",
   "execution_count": 75,
   "metadata": {
    "collapsed": false
   },
   "outputs": [
    {
     "data": {
      "image/png": "[encoded data removed]",
      "text/plain": [
       "<matplotlib.figure.Figure at 0x1b5ec00f0>"
      ]
     },
     "metadata": {},
     "output_type": "display_data"
    },
    {
     "data": {
      "image/png": "[encoded data removed]",
      "text/plain": [
       "<matplotlib.figure.Figure at 0x1b579ef60>"
      ]
     },
     "metadata": {},
     "output_type": "display_data"
    }
   ],
   "source": [
    "state_stats = df.groupby(by=['STATE'])['count'].sum().nlargest(10)\n",
    "state_stats.plot(kind='bar', color='green', title=\"High Prisoner Count by State\", stacked=False, grid=True).legend(loc='center left', bbox_to_anchor=(1, 0.5))\n",
    "plt.show()\n",
    "state_stats2 = df.groupby(by=['STATE'])['count'].sum().nsmallest(10)\n",
    "state_stats2.plot(kind='bar', color='orange', title=\"Low Prisoner Count by State\", stacked=False, grid=True).legend(loc='center left', bbox_to_anchor=(1, 0.5))\n",
    "plt.show()"
   ]
  },
  {
   "cell_type": "code",
   "execution_count": 85,
   "metadata": {
    "collapsed": false
   },
   "outputs": [
    {
     "data": {
      "text/plain": [
       "<matplotlib.legend.Legend at 0x1b7e2d9b0>"
      ]
     },
     "execution_count": 85,
     "metadata": {},
     "output_type": "execute_result"
    },
    {
     "data": {
      "image/png": "[encoded data removed]",
      "text/plain": [
       "<matplotlib.figure.Figure at 0x1b7e384e0>"
      ]
     },
     "metadata": {},
     "output_type": "display_data"
    }
   ],
   "source": [
    "race_by_state = df.groupby(by=['RACE', 'STATE'])['count'].sum().nlargest(10)\n",
    "race_by_state.plot(kind='bar', color='violet', title=\"Race by State\", stacked=False, grid=True).legend(loc='center left', bbox_to_anchor=(1, 0.5))"
   ]
  },
  {
   "cell_type": "markdown",
   "metadata": {},
   "source": [
    "## States appear to be locking up an equal number of black, white, and hispanic people. We'd need more information about specific state demographics, but it initially appears that some groups are over represented. "
   ]
  },
  {
   "cell_type": "code",
   "execution_count": 90,
   "metadata": {
    "collapsed": false
   },
   "outputs": [
    {
     "data": {
      "text/plain": [
       "<matplotlib.legend.Legend at 0x1bd7b85c0>"
      ]
     },
     "execution_count": 90,
     "metadata": {},
     "output_type": "execute_result"
    },
    {
     "data": {
      "image/png": "[encoded data removed]",
      "text/plain": [
       "<matplotlib.figure.Figure at 0x1bda4b438>"
      ]
     },
     "metadata": {},
     "output_type": "display_data"
    }
   ],
   "source": [
    "sentance_length_by_race = pd.crosstab(df.RACE, df.SENTLGTH, margins=False).apply(lambda r: r/(r.sum()) * 100, axis=1)\n",
    "sentance_length_by_race.plot(kind='bar', title=\"Sentance by Race\", grid=True).legend(loc='center left', bbox_to_anchor=(1, 0.5))"
   ]
  },
  {
   "cell_type": "markdown",
   "metadata": {},
   "source": [
    "## I expected there to be some racial bias in sentancing, but that does not appear to be the case. This is more clearly illustrated in the crosstab below"
   ]
  },
  {
   "cell_type": "code",
   "execution_count": 91,
   "metadata": {
    "collapsed": false
   },
   "outputs": [
    {
     "data": {
      "text/html": [
       "<div>\n",
       "<table border=\"1\" class=\"dataframe\">\n",
       "  <thead>\n",
       "    <tr style=\"text-align: right;\">\n",
       "      <th>SENTLGTH</th>\n",
       "      <th>0 - 1</th>\n",
       "      <th>1 - 1.9</th>\n",
       "      <th>10 - 24.9</th>\n",
       "      <th>2 - 4.9</th>\n",
       "      <th>25+</th>\n",
       "      <th>5 - 9.9</th>\n",
       "      <th>Life</th>\n",
       "      <th>Missing</th>\n",
       "    </tr>\n",
       "    <tr>\n",
       "      <th>RACE</th>\n",
       "      <th></th>\n",
       "      <th></th>\n",
       "      <th></th>\n",
       "      <th></th>\n",
       "      <th></th>\n",
       "      <th></th>\n",
       "      <th></th>\n",
       "      <th></th>\n",
       "    </tr>\n",
       "  </thead>\n",
       "  <tbody>\n",
       "    <tr>\n",
       "      <th>Black</th>\n",
       "      <td>13.452908</td>\n",
       "      <td>9.101673</td>\n",
       "      <td>11.580064</td>\n",
       "      <td>38.617899</td>\n",
       "      <td>2.968310</td>\n",
       "      <td>22.018191</td>\n",
       "      <td>1.752757</td>\n",
       "      <td>0.508198</td>\n",
       "    </tr>\n",
       "    <tr>\n",
       "      <th>Hispanic</th>\n",
       "      <td>9.946263</td>\n",
       "      <td>11.103155</td>\n",
       "      <td>7.653948</td>\n",
       "      <td>48.102016</td>\n",
       "      <td>1.878019</td>\n",
       "      <td>19.360450</td>\n",
       "      <td>1.775519</td>\n",
       "      <td>0.180630</td>\n",
       "    </tr>\n",
       "    <tr>\n",
       "      <th>Missing</th>\n",
       "      <td>11.614201</td>\n",
       "      <td>5.339084</td>\n",
       "      <td>24.076792</td>\n",
       "      <td>28.722387</td>\n",
       "      <td>7.404945</td>\n",
       "      <td>20.686627</td>\n",
       "      <td>1.685146</td>\n",
       "      <td>0.470818</td>\n",
       "    </tr>\n",
       "    <tr>\n",
       "      <th>Other</th>\n",
       "      <td>26.586445</td>\n",
       "      <td>9.963377</td>\n",
       "      <td>8.280232</td>\n",
       "      <td>33.987095</td>\n",
       "      <td>1.861118</td>\n",
       "      <td>16.542577</td>\n",
       "      <td>2.107061</td>\n",
       "      <td>0.672095</td>\n",
       "    </tr>\n",
       "    <tr>\n",
       "      <th>White</th>\n",
       "      <td>14.295786</td>\n",
       "      <td>10.993842</td>\n",
       "      <td>10.488890</td>\n",
       "      <td>39.322407</td>\n",
       "      <td>2.232418</td>\n",
       "      <td>20.728668</td>\n",
       "      <td>1.299821</td>\n",
       "      <td>0.638169</td>\n",
       "    </tr>\n",
       "  </tbody>\n",
       "</table>\n",
       "</div>"
      ],
      "text/plain": [
       "SENTLGTH      0 - 1    1 - 1.9  10 - 24.9    2 - 4.9       25+    5 - 9.9  \\\n",
       "RACE                                                                        \n",
       "Black     13.452908   9.101673  11.580064  38.617899  2.968310  22.018191   \n",
       "Hispanic   9.946263  11.103155   7.653948  48.102016  1.878019  19.360450   \n",
       "Missing   11.614201   5.339084  24.076792  28.722387  7.404945  20.686627   \n",
       "Other     26.586445   9.963377   8.280232  33.987095  1.861118  16.542577   \n",
       "White     14.295786  10.993842  10.488890  39.322407  2.232418  20.728668   \n",
       "\n",
       "SENTLGTH      Life   Missing  \n",
       "RACE                          \n",
       "Black     1.752757  0.508198  \n",
       "Hispanic  1.775519  0.180630  \n",
       "Missing   1.685146  0.470818  \n",
       "Other     2.107061  0.672095  \n",
       "White     1.299821  0.638169  "
      ]
     },
     "execution_count": 91,
     "metadata": {},
     "output_type": "execute_result"
    }
   ],
   "source": [
    "sentance_length_by_race"
   ]
  },
  {
   "cell_type": "code",
   "execution_count": 92,
   "metadata": {
    "collapsed": false
   },
   "outputs": [
    {
     "data": {
      "text/plain": [
       "<matplotlib.legend.Legend at 0x1c2fcb240>"
      ]
     },
     "execution_count": 92,
     "metadata": {},
     "output_type": "execute_result"
    },
    {
     "data": {
      "image/png": "[encoded data removed]",
      "text/plain": [
       "<matplotlib.figure.Figure at 0x1c2fcfc88>"
      ]
     },
     "metadata": {},
     "output_type": "display_data"
    }
   ],
   "source": [
    "sentance_length_by_offense = pd.crosstab(df.OFFGENERAL, df.SENTLGTH, margins=False).apply(lambda r: r/(r.sum()) * 100, axis=1)\n",
    "sentance_length_by_offense.plot(kind='bar', title=\"Sentance Length by Offense\", grid=True).legend(loc='center left', bbox_to_anchor=(1, 0.5))"
   ]
  },
  {
   "cell_type": "code",
   "execution_count": 93,
   "metadata": {
    "collapsed": false
   },
   "outputs": [
    {
     "data": {
      "text/html": [
       "<div>\n",
       "<table border=\"1\" class=\"dataframe\">\n",
       "  <thead>\n",
       "    <tr style=\"text-align: right;\">\n",
       "      <th>SENTLGTH</th>\n",
       "      <th>0 - 1</th>\n",
       "      <th>1 - 1.9</th>\n",
       "      <th>10 - 24.9</th>\n",
       "      <th>2 - 4.9</th>\n",
       "      <th>25+</th>\n",
       "      <th>5 - 9.9</th>\n",
       "      <th>Life</th>\n",
       "      <th>Missing</th>\n",
       "    </tr>\n",
       "    <tr>\n",
       "      <th>OFFGENERAL</th>\n",
       "      <th></th>\n",
       "      <th></th>\n",
       "      <th></th>\n",
       "      <th></th>\n",
       "      <th></th>\n",
       "      <th></th>\n",
       "      <th></th>\n",
       "      <th></th>\n",
       "    </tr>\n",
       "  </thead>\n",
       "  <tbody>\n",
       "    <tr>\n",
       "      <th>Drugs</th>\n",
       "      <td>13.681003</td>\n",
       "      <td>11.017551</td>\n",
       "      <td>9.276840</td>\n",
       "      <td>41.358339</td>\n",
       "      <td>1.513696</td>\n",
       "      <td>22.494780</td>\n",
       "      <td>0.520735</td>\n",
       "      <td>0.137056</td>\n",
       "    </tr>\n",
       "    <tr>\n",
       "      <th>Missing</th>\n",
       "      <td>36.080674</td>\n",
       "      <td>1.692910</td>\n",
       "      <td>1.192924</td>\n",
       "      <td>10.063097</td>\n",
       "      <td>0.170418</td>\n",
       "      <td>2.502746</td>\n",
       "      <td>1.856286</td>\n",
       "      <td>46.440945</td>\n",
       "    </tr>\n",
       "    <tr>\n",
       "      <th>Other</th>\n",
       "      <td>8.303531</td>\n",
       "      <td>11.916562</td>\n",
       "      <td>10.197440</td>\n",
       "      <td>41.900578</td>\n",
       "      <td>2.533261</td>\n",
       "      <td>22.089854</td>\n",
       "      <td>0.564608</td>\n",
       "      <td>2.494164</td>\n",
       "    </tr>\n",
       "    <tr>\n",
       "      <th>Property</th>\n",
       "      <td>14.268174</td>\n",
       "      <td>12.343258</td>\n",
       "      <td>9.165766</td>\n",
       "      <td>43.076718</td>\n",
       "      <td>1.575717</td>\n",
       "      <td>19.243617</td>\n",
       "      <td>0.195987</td>\n",
       "      <td>0.130764</td>\n",
       "    </tr>\n",
       "    <tr>\n",
       "      <th>Public Order</th>\n",
       "      <td>23.732960</td>\n",
       "      <td>12.088864</td>\n",
       "      <td>5.286476</td>\n",
       "      <td>41.321555</td>\n",
       "      <td>0.827589</td>\n",
       "      <td>16.183378</td>\n",
       "      <td>0.190258</td>\n",
       "      <td>0.368921</td>\n",
       "    </tr>\n",
       "    <tr>\n",
       "      <th>Violent</th>\n",
       "      <td>5.788639</td>\n",
       "      <td>4.459756</td>\n",
       "      <td>21.032803</td>\n",
       "      <td>32.595915</td>\n",
       "      <td>7.209000</td>\n",
       "      <td>23.785353</td>\n",
       "      <td>4.952593</td>\n",
       "      <td>0.175939</td>\n",
       "    </tr>\n",
       "  </tbody>\n",
       "</table>\n",
       "</div>"
      ],
      "text/plain": [
       "SENTLGTH          0 - 1    1 - 1.9  10 - 24.9    2 - 4.9       25+    5 - 9.9  \\\n",
       "OFFGENERAL                                                                      \n",
       "Drugs         13.681003  11.017551   9.276840  41.358339  1.513696  22.494780   \n",
       "Missing       36.080674   1.692910   1.192924  10.063097  0.170418   2.502746   \n",
       "Other          8.303531  11.916562  10.197440  41.900578  2.533261  22.089854   \n",
       "Property      14.268174  12.343258   9.165766  43.076718  1.575717  19.243617   \n",
       "Public Order  23.732960  12.088864   5.286476  41.321555  0.827589  16.183378   \n",
       "Violent        5.788639   4.459756  21.032803  32.595915  7.209000  23.785353   \n",
       "\n",
       "SENTLGTH          Life    Missing  \n",
       "OFFGENERAL                         \n",
       "Drugs         0.520735   0.137056  \n",
       "Missing       1.856286  46.440945  \n",
       "Other         0.564608   2.494164  \n",
       "Property      0.195987   0.130764  \n",
       "Public Order  0.190258   0.368921  \n",
       "Violent       4.952593   0.175939  "
      ]
     },
     "execution_count": 93,
     "metadata": {},
     "output_type": "execute_result"
    }
   ],
   "source": [
    "sentance_length_by_offense"
   ]
  },
  {
   "cell_type": "markdown",
   "metadata": {},
   "source": [
    "# Interesting that 2-4.9 years is the most common sentance for any offense. Also notice how much higher life sentance is for violent when compared to other crimes. "
   ]
  },
  {
   "cell_type": "code",
   "execution_count": 96,
   "metadata": {
    "collapsed": false
   },
   "outputs": [
    {
     "data": {
      "text/plain": [
       "<matplotlib.legend.Legend at 0x1cf4794a8>"
      ]
     },
     "execution_count": 96,
     "metadata": {},
     "output_type": "execute_result"
    },
    {
     "data": {
      "image/png": "[encoded data removed]",
      "text/plain": [
       "<matplotlib.figure.Figure at 0x1cf480630>"
      ]
     },
     "metadata": {},
     "output_type": "display_data"
    }
   ],
   "source": [
    "offense_stats = df.groupby(by=['OFFGENERAL'])['count'].sum()\n",
    "offense_stats.plot(kind='bar', color='#66ff66', title=\"Offense Count\", grid=True).legend(loc='center left', bbox_to_anchor=(1, 0.5))"
   ]
  },
  {
   "cell_type": "markdown",
   "metadata": {},
   "source": [
    "## We can clearly see that we are locking up more non-violent drug offenders than violent offenders. Interestingly property offenses are the most common. Let's take another look at offense verse sentence length. "
   ]
  },
  {
   "cell_type": "code",
   "execution_count": 120,
   "metadata": {
    "collapsed": true
   },
   "outputs": [],
   "source": [
    "# THE GRAPHS WORKS BUT HAVE A LOT OF DATA SO IT'S HARD TO DRAW CONCLUSIONS\n",
    "# from pylab import rcParams\n",
    "# rcParams['figure.figsize'] = 14, 10\n",
    "# sentance_length_by_offense_detail = pd.crosstab(df.OFFDETAIL, df.SENTLGTH, margins=False).apply(lambda r: r/(r.sum()) * 100, axis=1)\n",
    "# sentance_length_by_offense_detail.plot(kind='bar', title=\"Sentance Length by Offense Detail\", grid=True).legend(loc='center left', bbox_to_anchor=(1, 0.5))"
   ]
  },
  {
   "cell_type": "code",
   "execution_count": 121,
   "metadata": {
    "collapsed": false
   },
   "outputs": [],
   "source": [
    "# sentance_length_by_offense_detail.plot(kind='bar', title=\"Sentance Length by Offense Detail\", stacked=True, grid=True).legend(loc='center left', bbox_to_anchor=(1, 0.5))"
   ]
  },
  {
   "cell_type": "code",
   "execution_count": 125,
   "metadata": {
    "collapsed": false
   },
   "outputs": [
    {
     "data": {
      "text/html": [
       "<div>\n",
       "<table border=\"1\" class=\"dataframe\">\n",
       "  <thead>\n",
       "    <tr style=\"text-align: right;\">\n",
       "      <th>SENTLGTH</th>\n",
       "      <th>0 - 1</th>\n",
       "      <th>1 - 1.9</th>\n",
       "      <th>10 - 24.9</th>\n",
       "      <th>2 - 4.9</th>\n",
       "      <th>25+</th>\n",
       "      <th>5 - 9.9</th>\n",
       "      <th>Life</th>\n",
       "      <th>Missing</th>\n",
       "    </tr>\n",
       "    <tr>\n",
       "      <th>OFFDETAIL</th>\n",
       "      <th></th>\n",
       "      <th></th>\n",
       "      <th></th>\n",
       "      <th></th>\n",
       "      <th></th>\n",
       "      <th></th>\n",
       "      <th></th>\n",
       "      <th></th>\n",
       "    </tr>\n",
       "  </thead>\n",
       "  <tbody>\n",
       "    <tr>\n",
       "      <th>Assault</th>\n",
       "      <td>10.826631</td>\n",
       "      <td>6.337671</td>\n",
       "      <td>11.659781</td>\n",
       "      <td>47.298930</td>\n",
       "      <td>2.328681</td>\n",
       "      <td>20.689201</td>\n",
       "      <td>0.742615</td>\n",
       "      <td>0.116491</td>\n",
       "    </tr>\n",
       "    <tr>\n",
       "      <th>Burglary</th>\n",
       "      <td>8.809195</td>\n",
       "      <td>8.301510</td>\n",
       "      <td>13.721045</td>\n",
       "      <td>41.560686</td>\n",
       "      <td>2.621558</td>\n",
       "      <td>24.496743</td>\n",
       "      <td>0.362520</td>\n",
       "      <td>0.126744</td>\n",
       "    </tr>\n",
       "    <tr>\n",
       "      <th>Drugs</th>\n",
       "      <td>13.681003</td>\n",
       "      <td>11.017551</td>\n",
       "      <td>9.276840</td>\n",
       "      <td>41.358339</td>\n",
       "      <td>1.513696</td>\n",
       "      <td>22.494780</td>\n",
       "      <td>0.520735</td>\n",
       "      <td>0.137056</td>\n",
       "    </tr>\n",
       "    <tr>\n",
       "      <th>Fraud</th>\n",
       "      <td>19.501422</td>\n",
       "      <td>13.416317</td>\n",
       "      <td>8.175684</td>\n",
       "      <td>40.064343</td>\n",
       "      <td>1.260291</td>\n",
       "      <td>17.347805</td>\n",
       "      <td>0.064613</td>\n",
       "      <td>0.169525</td>\n",
       "    </tr>\n",
       "    <tr>\n",
       "      <th>GTA</th>\n",
       "      <td>10.739043</td>\n",
       "      <td>17.535598</td>\n",
       "      <td>3.326040</td>\n",
       "      <td>51.872265</td>\n",
       "      <td>0.715427</td>\n",
       "      <td>15.708828</td>\n",
       "      <td>0.048274</td>\n",
       "      <td>0.054525</td>\n",
       "    </tr>\n",
       "    <tr>\n",
       "      <th>Larceny</th>\n",
       "      <td>20.193848</td>\n",
       "      <td>15.318514</td>\n",
       "      <td>5.302954</td>\n",
       "      <td>44.517715</td>\n",
       "      <td>0.695440</td>\n",
       "      <td>13.756000</td>\n",
       "      <td>0.082572</td>\n",
       "      <td>0.132956</td>\n",
       "    </tr>\n",
       "    <tr>\n",
       "      <th>Missing</th>\n",
       "      <td>36.080674</td>\n",
       "      <td>1.692910</td>\n",
       "      <td>1.192924</td>\n",
       "      <td>10.063097</td>\n",
       "      <td>0.170418</td>\n",
       "      <td>2.502746</td>\n",
       "      <td>1.856286</td>\n",
       "      <td>46.440945</td>\n",
       "    </tr>\n",
       "    <tr>\n",
       "      <th>Murder</th>\n",
       "      <td>0.878522</td>\n",
       "      <td>0.237286</td>\n",
       "      <td>26.744420</td>\n",
       "      <td>2.720663</td>\n",
       "      <td>22.228931</td>\n",
       "      <td>10.963867</td>\n",
       "      <td>35.414526</td>\n",
       "      <td>0.811785</td>\n",
       "    </tr>\n",
       "    <tr>\n",
       "      <th>Negligent Manslaughter</th>\n",
       "      <td>2.391671</td>\n",
       "      <td>2.950140</td>\n",
       "      <td>34.759673</td>\n",
       "      <td>26.265064</td>\n",
       "      <td>5.491870</td>\n",
       "      <td>27.425318</td>\n",
       "      <td>0.652836</td>\n",
       "      <td>0.063427</td>\n",
       "    </tr>\n",
       "    <tr>\n",
       "      <th>Other</th>\n",
       "      <td>8.303531</td>\n",
       "      <td>11.916562</td>\n",
       "      <td>10.197440</td>\n",
       "      <td>41.900578</td>\n",
       "      <td>2.533261</td>\n",
       "      <td>22.089854</td>\n",
       "      <td>0.564608</td>\n",
       "      <td>2.494164</td>\n",
       "    </tr>\n",
       "    <tr>\n",
       "      <th>Other Property</th>\n",
       "      <td>16.886083</td>\n",
       "      <td>14.570118</td>\n",
       "      <td>7.465466</td>\n",
       "      <td>41.991962</td>\n",
       "      <td>0.903251</td>\n",
       "      <td>17.892578</td>\n",
       "      <td>0.137839</td>\n",
       "      <td>0.152704</td>\n",
       "    </tr>\n",
       "    <tr>\n",
       "      <th>Other Violent</th>\n",
       "      <td>9.521945</td>\n",
       "      <td>10.280867</td>\n",
       "      <td>13.196009</td>\n",
       "      <td>38.718675</td>\n",
       "      <td>4.298360</td>\n",
       "      <td>21.392809</td>\n",
       "      <td>2.450989</td>\n",
       "      <td>0.140346</td>\n",
       "    </tr>\n",
       "    <tr>\n",
       "      <th>Public Order</th>\n",
       "      <td>23.732960</td>\n",
       "      <td>12.088864</td>\n",
       "      <td>5.286476</td>\n",
       "      <td>41.321555</td>\n",
       "      <td>0.827589</td>\n",
       "      <td>16.183378</td>\n",
       "      <td>0.190258</td>\n",
       "      <td>0.368921</td>\n",
       "    </tr>\n",
       "    <tr>\n",
       "      <th>Rape / Sexual Assault</th>\n",
       "      <td>2.600480</td>\n",
       "      <td>3.398252</td>\n",
       "      <td>30.529121</td>\n",
       "      <td>21.902889</td>\n",
       "      <td>10.873597</td>\n",
       "      <td>26.723712</td>\n",
       "      <td>3.811843</td>\n",
       "      <td>0.160106</td>\n",
       "    </tr>\n",
       "    <tr>\n",
       "      <th>Robbery</th>\n",
       "      <td>3.049892</td>\n",
       "      <td>3.001414</td>\n",
       "      <td>24.703500</td>\n",
       "      <td>31.475919</td>\n",
       "      <td>6.366986</td>\n",
       "      <td>29.899008</td>\n",
       "      <td>1.439824</td>\n",
       "      <td>0.063456</td>\n",
       "    </tr>\n",
       "  </tbody>\n",
       "</table>\n",
       "</div>"
      ],
      "text/plain": [
       "SENTLGTH                    0 - 1    1 - 1.9  10 - 24.9    2 - 4.9        25+  \\\n",
       "OFFDETAIL                                                                       \n",
       "Assault                 10.826631   6.337671  11.659781  47.298930   2.328681   \n",
       "Burglary                 8.809195   8.301510  13.721045  41.560686   2.621558   \n",
       "Drugs                   13.681003  11.017551   9.276840  41.358339   1.513696   \n",
       "Fraud                   19.501422  13.416317   8.175684  40.064343   1.260291   \n",
       "GTA                     10.739043  17.535598   3.326040  51.872265   0.715427   \n",
       "Larceny                 20.193848  15.318514   5.302954  44.517715   0.695440   \n",
       "Missing                 36.080674   1.692910   1.192924  10.063097   0.170418   \n",
       "Murder                   0.878522   0.237286  26.744420   2.720663  22.228931   \n",
       "Negligent Manslaughter   2.391671   2.950140  34.759673  26.265064   5.491870   \n",
       "Other                    8.303531  11.916562  10.197440  41.900578   2.533261   \n",
       "Other Property          16.886083  14.570118   7.465466  41.991962   0.903251   \n",
       "Other Violent            9.521945  10.280867  13.196009  38.718675   4.298360   \n",
       "Public Order            23.732960  12.088864   5.286476  41.321555   0.827589   \n",
       "Rape / Sexual Assault    2.600480   3.398252  30.529121  21.902889  10.873597   \n",
       "Robbery                  3.049892   3.001414  24.703500  31.475919   6.366986   \n",
       "\n",
       "SENTLGTH                  5 - 9.9       Life    Missing  \n",
       "OFFDETAIL                                                \n",
       "Assault                 20.689201   0.742615   0.116491  \n",
       "Burglary                24.496743   0.362520   0.126744  \n",
       "Drugs                   22.494780   0.520735   0.137056  \n",
       "Fraud                   17.347805   0.064613   0.169525  \n",
       "GTA                     15.708828   0.048274   0.054525  \n",
       "Larceny                 13.756000   0.082572   0.132956  \n",
       "Missing                  2.502746   1.856286  46.440945  \n",
       "Murder                  10.963867  35.414526   0.811785  \n",
       "Negligent Manslaughter  27.425318   0.652836   0.063427  \n",
       "Other                   22.089854   0.564608   2.494164  \n",
       "Other Property          17.892578   0.137839   0.152704  \n",
       "Other Violent           21.392809   2.450989   0.140346  \n",
       "Public Order            16.183378   0.190258   0.368921  \n",
       "Rape / Sexual Assault   26.723712   3.811843   0.160106  \n",
       "Robbery                 29.899008   1.439824   0.063456  "
      ]
     },
     "execution_count": 125,
     "metadata": {},
     "output_type": "execute_result"
    }
   ],
   "source": [
    "rcParams['figure.figsize'] = 10, 5\n",
    "sentance_length_by_offense_detail"
   ]
  },
  {
   "cell_type": "markdown",
   "metadata": {},
   "source": [
    "## Comparing drugs to assault or fraud we can see some interesting results. It appears that most drugs offenses warrent longer sentances than assault or fraud"
   ]
  },
  {
   "cell_type": "code",
   "execution_count": 132,
   "metadata": {
    "collapsed": false
   },
   "outputs": [
    {
     "data": {
      "text/plain": [
       "SEX\n",
       "Female    1147078\n",
       "Male      9759759\n",
       "Name: count, dtype: int64"
      ]
     },
     "execution_count": 132,
     "metadata": {},
     "output_type": "execute_result"
    }
   ],
   "source": [
    "sex_stats = df.groupby(by=['SEX'])['count'].sum()\n",
    "sex_stats"
   ]
  },
  {
   "cell_type": "markdown",
   "metadata": {},
   "source": [
    "# 10.5 % Women\n",
    "# 90.5 % Men\n",
    "\n",
    "## Incredible that there is such a large difference"
   ]
  },
  {
   "cell_type": "code",
   "execution_count": 128,
   "metadata": {
    "collapsed": false
   },
   "outputs": [
    {
     "data": {
      "text/plain": [
       "<matplotlib.legend.Legend at 0x1df991320>"
      ]
     },
     "execution_count": 128,
     "metadata": {},
     "output_type": "execute_result"
    },
    {
     "data": {
      "image/png": "[encoded data removed]",
      "text/plain": [
       "<matplotlib.figure.Figure at 0x1dfa55d68>"
      ]
     },
     "metadata": {},
     "output_type": "display_data"
    }
   ],
   "source": [
    "offense_detail_vs_sex = pd.crosstab(df.OFFDETAIL, df.SEX, margins=False).apply(lambda r: r/(r.sum()) * 100, axis=1)\n",
    "offense_detail_vs_sex.plot(kind='bar', title=\"Offense Detail by Sex\", grid=True).legend(loc='center left', bbox_to_anchor=(1, 0.5))"
   ]
  },
  {
   "cell_type": "code",
   "execution_count": 133,
   "metadata": {
    "collapsed": false
   },
   "outputs": [
    {
     "data": {
      "text/plain": [
       "class_label\n",
       "1    3925136\n",
       "2    6981701\n",
       "Name: count, dtype: int64"
      ]
     },
     "execution_count": 133,
     "metadata": {},
     "output_type": "execute_result"
    }
   ],
   "source": [
    "repeat_offenders = df.groupby(by=['class_label'])['count'].sum()\n",
    "repeat_offenders"
   ]
  },
  {
   "cell_type": "markdown",
   "metadata": {},
   "source": [
    "# 64% are repeat offenders\n",
    "\n",
    "# Let’s see if we can figure out what characteristics are the best predictors of whether someone will be a repeat offender.\n",
    "\n",
    "# I will use the complete rows from the original data as my sample. I used   logistic regression because there are only 2 labels. "
   ]
  },
  {
   "cell_type": "code",
   "execution_count": 148,
   "metadata": {
    "collapsed": false
   },
   "outputs": [
    {
     "name": "stderr",
     "output_type": "stream",
     "text": [
      "//anaconda/lib/python3.5/site-packages/ipykernel/__main__.py:6: SettingWithCopyWarning: \n",
      "A value is trying to be set on a copy of a slice from a DataFrame\n",
      "\n",
      "See the caveats in the documentation: http://pandas.pydata.org/pandas-docs/stable/indexing.html#indexing-view-versus-copy\n"
     ]
    }
   ],
   "source": [
    "repeat = complete_rows.set_index('ABT_INMATE_ID').index.duplicated(keep=False)\n",
    "repeat = repeat * 1\n",
    "class_label = [x + 1 for x in repeat]\n",
    "se = pd.Series(class_label)\n",
    "complete_rows.insert(0, 'class_label', se.values)\n",
    "complete_rows.drop('ABT_INMATE_ID', axis=1, inplace = True) # drop the ID because it's a unique value"
   ]
  },
  {
   "cell_type": "markdown",
   "metadata": {},
   "source": [
    "# Now I remove all the rows that have \"missing\""
   ]
  },
  {
   "cell_type": "code",
   "execution_count": 149,
   "metadata": {
    "collapsed": true
   },
   "outputs": [],
   "source": [
    "complete_rows = complete_rows[complete_rows.RELEASEYR != 9999]\n",
    "complete_rows = complete_rows[complete_rows.ADMTYPE != 9]\n",
    "complete_rows = complete_rows[complete_rows.OFFGENERAL != 9]\n",
    "complete_rows = complete_rows[complete_rows.ADMITYR != 9999]\n",
    "complete_rows = complete_rows[complete_rows.OFFDETAIL != 99]\n",
    "complete_rows = complete_rows[complete_rows.RACE != 9]\n",
    "complete_rows = complete_rows[complete_rows.AGEADMIT != 9]\n",
    "complete_rows.drop('EDUCATION', axis=1, inplace=True) # missing all values\n",
    "complete_rows = complete_rows[complete_rows.MAND_PRISREL_YEAR != 9999]\n",
    "complete_rows = complete_rows[complete_rows.PROJ_PRISREL_YEAR != 9999]\n",
    "complete_rows = complete_rows[complete_rows.PARELIG_YEAR != 9999]\n",
    "complete_rows = complete_rows[complete_rows.OFFDETAIL != 9]\n",
    "complete_rows = complete_rows[complete_rows.SENTLGTH != 9]\n",
    "complete_rows = complete_rows[complete_rows.AGERELEASE != 9]\n",
    "complete_rows = complete_rows[complete_rows.RELTYPE != 9]"
   ]
  },
  {
   "cell_type": "markdown",
   "metadata": {},
   "source": [
    "# Now we need to Standardize our data. Complete rows still has over 660k rows which is too much so I'll take a sample."
   ]
  },
  {
   "cell_type": "code",
   "execution_count": 150,
   "metadata": {
    "collapsed": false
   },
   "outputs": [],
   "source": [
    "# take 10% of complete rows \n",
    "sample = complete_rows.sample(frac=0.10, random_state=0)"
   ]
  },
  {
   "cell_type": "markdown",
   "metadata": {},
   "source": [
    "# Split into Training and Test data"
   ]
  },
  {
   "cell_type": "code",
   "execution_count": 102,
   "metadata": {
    "collapsed": false
   },
   "outputs": [],
   "source": [
    "# test set is 20%\n",
    "from sklearn.cross_validation import train_test_split\n",
    "X, y = sample.iloc[:, 1:].values, sample.iloc[:, 0].values\n",
    "X_train, X_test, y_train, y_test = train_test_split(X, y, test_size=0.20, random_state=0)"
   ]
  },
  {
   "cell_type": "markdown",
   "metadata": {},
   "source": [
    "# Standardize Values so larger numbers such as year don't skew the results"
   ]
  },
  {
   "cell_type": "code",
   "execution_count": 103,
   "metadata": {
    "collapsed": true
   },
   "outputs": [],
   "source": [
    "from sklearn.preprocessing import StandardScaler\n",
    "stdsc = StandardScaler()\n",
    "X_train_std = stdsc.fit_transform(X_train)\n",
    "X_test_std = stdsc.transform(X_test)"
   ]
  },
  {
   "cell_type": "markdown",
   "metadata": {},
   "source": [
    "# Calculate Accuracy"
   ]
  },
  {
   "cell_type": "code",
   "execution_count": 28,
   "metadata": {
    "collapsed": false
   },
   "outputs": [
    {
     "name": "stdout",
     "output_type": "stream",
     "text": [
      "Training accuracy: 0.639990923187\n",
      "Test accuracy: 0.645942061871\n"
     ]
    }
   ],
   "source": [
    "from sklearn.linear_model import LogisticRegression\n",
    "LogisticRegression(penalty='l1')\n",
    "lr = LogisticRegression(penalty='l1', C=0.1)\n",
    "lr.fit(X_train_std, y_train)\n",
    "print('Training accuracy:', lr.score(X_train_std, y_train))\n",
    "print('Test accuracy:', lr.score(X_test_std, y_test))"
   ]
  },
  {
   "cell_type": "markdown",
   "metadata": {},
   "source": [
    "# At this point I was disappointed with the results so I decided to explore the importance of each feature. The dataset currently has 16 dimensions. To evaluate each variable I used a random forest to see which variables are the most important to predict repeat offenders. "
   ]
  },
  {
   "cell_type": "code",
   "execution_count": 20,
   "metadata": {
    "collapsed": false
   },
   "outputs": [],
   "source": [
    "from sklearn.ensemble import RandomForestClassifier\n",
    "feat_labels = complete_rows.columns[1:]\n",
    "forest = RandomForestClassifier(n_estimators=1000, max_depth=5,  random_state=0, n_jobs=1)"
   ]
  },
  {
   "cell_type": "code",
   "execution_count": 56,
   "metadata": {
    "collapsed": false
   },
   "outputs": [
    {
     "name": "stdout",
     "output_type": "stream",
     "text": [
      " 1) SEX                            0.273661\n",
      " 2) ADMTYPE                        0.269934\n",
      " 3) OFFGENERAL                     0.106134\n",
      " 4) ADMITYR                        0.095203\n",
      " 5) RELEASEYR                      0.092483\n",
      " 6) MAND_PRISREL_YEAR              0.038753\n",
      " 7) PROJ_PRISREL_YEAR              0.023060\n",
      " 8) PARELIG_YEAR                   0.019957\n",
      " 9) SENTLGTH                       0.018406\n",
      "10) OFFDETAIL                      0.016320\n",
      "11) RACE                           0.014892\n",
      "12) AGEADMIT                       0.012895\n",
      "13) AGERELEASE                     0.005550\n",
      "14) TIMESRVD                       0.004666\n",
      "15) RELTYPE                        0.004262\n",
      "16) STATE                          0.003822\n",
      "CPU times: user 39.4 s, sys: 571 ms, total: 39.9 s\n",
      "Wall time: 41.5 s\n"
     ]
    }
   ],
   "source": [
    "%%time\n",
    "forest.fit(X_train, y_train)\n",
    "importances = forest.feature_importances_\n",
    "indices = np.argsort(importances)[::-1]\n",
    "for f in range(X_train.shape[1]):\n",
    "    print (\"%2d) %-*s %f\" % (f + 1, 30, feat_labels[f], importances[indices[f]]))"
   ]
  },
  {
   "cell_type": "code",
   "execution_count": 57,
   "metadata": {
    "collapsed": false
   },
   "outputs": [
    {
     "data": {
      "image/png": "[encoded data removed]",
      "text/plain": [
       "<matplotlib.figure.Figure at 0x11acdaf98>"
      ]
     },
     "metadata": {},
     "output_type": "display_data"
    }
   ],
   "source": [
    "plt.title('Feature Importances')\n",
    "plt.bar(range(X_train.shape[1]), importances[indices], color='#f4e242', align='center')\n",
    "plt.xticks(range(X_train.shape[1]), feat_labels, rotation=90)\n",
    "plt.xlim([-1, X_train.shape[1]])\n",
    "plt.tight_layout()\n",
    "plt.show()"
   ]
  },
  {
   "cell_type": "markdown",
   "metadata": {},
   "source": [
    "# Checking results using KNN and Sequential Backward Selection"
   ]
  },
  {
   "cell_type": "code",
   "execution_count": 104,
   "metadata": {
    "collapsed": true
   },
   "outputs": [],
   "source": [
    "from sklearn.base import clone\n",
    "from itertools import combinations\n",
    "from sklearn.cross_validation import train_test_split\n",
    "from sklearn.metrics import accuracy_score"
   ]
  },
  {
   "cell_type": "code",
   "execution_count": 105,
   "metadata": {
    "collapsed": true
   },
   "outputs": [],
   "source": [
    "# Not in Sklearn\n",
    "class SBS():\n",
    "    def __init__(self, estimator, k_features,\n",
    "                 scoring=accuracy_score,\n",
    "                 test_size=0.25, random_state=1):\n",
    "        self.scoring = scoring\n",
    "        self.estimator = clone(estimator)\n",
    "        self.k_features = k_features\n",
    "        self.test_size = test_size\n",
    "        self.random_state = random_state\n",
    "\n",
    "    def fit(self, X, y):\n",
    "        X_train, X_test, y_train, y_test = \\\n",
    "            train_test_split(X, y, test_size=self.test_size, random_state=self.random_state)\n",
    "            \n",
    "        dim = X_train.shape[1]\n",
    "        self.indices_ = tuple(range(dim))\n",
    "        self.subsets_ = [self.indices_]\n",
    "        score = self._calc_score(X_train, y_train, X_test, y_test, self.indices_)\n",
    "        self.scores_ = [score]\n",
    "        \n",
    "        while dim > self.k_features:\n",
    "            scores = []\n",
    "            subsets = []\n",
    "            \n",
    "            for p in combinations(self.indices_, r = (dim - 1)):\n",
    "                score = self._calc_score(X_train, y_train, X_test, y_test, p)\n",
    "                \n",
    "                scores.append(score)\n",
    "                subsets.append(p)\n",
    "\n",
    "            best = np.argmax(scores)\n",
    "            self.indices_ = subsets[best]\n",
    "            self.subsets_.append(self.indices_)\n",
    "            dim -= 1\n",
    "            self.scores_.append(scores[best])\n",
    "        self.k_score_ = self.scores_[-1]\n",
    "\n",
    "        return self\n",
    "\n",
    "\n",
    "    def transform(self, X):\n",
    "        return X[:, self.indices_]\n",
    "\n",
    "    def _calc_score(self, X_train, y_train, X_test, y_test, indices):\n",
    "        \n",
    "        self.estimator.fit(X_train[:, indices], y_train)\n",
    "        y_pred = self.estimator.predict(X_test[:, indices])\n",
    "        score = self.scoring(y_test, y_pred)\n",
    "        return score"
   ]
  },
  {
   "cell_type": "code",
   "execution_count": 111,
   "metadata": {
    "collapsed": false
   },
   "outputs": [
    {
     "data": {
      "text/plain": [
       "<__main__.SBS at 0x1086f04a8>"
      ]
     },
     "execution_count": 111,
     "metadata": {},
     "output_type": "execute_result"
    }
   ],
   "source": [
    "# Takes about 10 minutes to run\n",
    "from sklearn.neighbors import KNeighborsClassifier\n",
    "%timeit\n",
    "knn = KNeighborsClassifier(n_neighbors=2)\n",
    "sbs = SBS(knn, k_features=1)\n",
    "sbs.fit(X_train_std, y_train)"
   ]
  },
  {
   "cell_type": "code",
   "execution_count": 112,
   "metadata": {
    "collapsed": false
   },
   "outputs": [
    {
     "data": {
      "image/png": "[encoded data removed]",
      "text/plain": [
       "<matplotlib.figure.Figure at 0x108717400>"
      ]
     },
     "metadata": {},
     "output_type": "display_data"
    }
   ],
   "source": [
    "k_feat = [len(k) for k in sbs.subsets_]\n",
    "plt.plot(k_feat, sbs.scores_, marker='o')\n",
    "plt.ylim([0.5, 1.1])\n",
    "plt.ylabel('Accuracy')\n",
    "plt.xlabel('Number of features')\n",
    "plt.grid()\n",
    "plt.show()"
   ]
  },
  {
   "cell_type": "code",
   "execution_count": 113,
   "metadata": {
    "collapsed": false
   },
   "outputs": [
    {
     "data": {
      "text/plain": [
       "[0.65880039331366769,\n",
       " 0.6627335299901671,\n",
       " 0.67354965585054083,\n",
       " 0.68141592920353977,\n",
       " 0.68882837909386585,\n",
       " 0.69578700552151884,\n",
       " 0.70274563194917172,\n",
       " 0.7124271991528629,\n",
       " 0.71666288480447771,\n",
       " 0.71741925724226607,\n",
       " 0.71673852204825661,\n",
       " 0.70819151350124798,\n",
       " 0.68209666439754935,\n",
       " 0.66001058921412903,\n",
       " 0.60940927312608728,\n",
       " 0.60850162620074122]"
      ]
     },
     "execution_count": 113,
     "metadata": {},
     "output_type": "execute_result"
    }
   ],
   "source": [
    "sbs.scores_"
   ]
  },
  {
   "cell_type": "code",
   "execution_count": 91,
   "metadata": {
    "collapsed": false
   },
   "outputs": [
    {
     "name": "stdout",
     "output_type": "stream",
     "text": [
      "Index(['ADMTYPE', 'RELEASEYR', 'MAND_PRISREL_YEAR', 'PARELIG_YEAR', 'TIMESRVD',\n",
      "       'STATE'],\n",
      "      dtype='object')\n"
     ]
    }
   ],
   "source": [
    "k1 = list(sbs.subsets_[10])\n",
    "print(sample.columns[1:][k1])"
   ]
  },
  {
   "cell_type": "markdown",
   "metadata": {},
   "source": [
    "# The above code shows the 6 features that result in the best accuracy score. This implies that we can remove 10 feature from our dataset. Let's try it"
   ]
  },
  {
   "cell_type": "code",
   "execution_count": 22,
   "metadata": {
    "collapsed": true
   },
   "outputs": [],
   "source": [
    "# reduce to 6 dimensions\n",
    "def drop_columns_for_lr(df):\n",
    "    df.drop('STATE', axis=1, inplace=True)\n",
    "    df.drop('RELTYPE', axis=1, inplace=True)\n",
    "    df.drop('TIMESRVD', axis=1, inplace=True)\n",
    "    df.drop('AGERELEASE', axis=1, inplace=True)\n",
    "    df.drop('AGEADMIT', axis=1, inplace=True)\n",
    "    df.drop('RACE', axis=1, inplace=True)\n",
    "    df.drop('OFFDETAIL', axis=1, inplace=True)\n",
    "    df.drop('SENTLGTH', axis=1, inplace=True)\n",
    "    df.drop('PARELIG_YEAR', axis=1, inplace=True)\n",
    "    df.drop('PROJ_PRISREL_YEAR', axis=1, inplace=True)\n",
    "    return df"
   ]
  },
  {
   "cell_type": "code",
   "execution_count": 47,
   "metadata": {
    "collapsed": true
   },
   "outputs": [],
   "source": [
    "# since we are dropping columns we need to make a copy of the df\n",
    "copy = complete_rows.copy()\n",
    "copy2 = complete_rows.copy()"
   ]
  },
  {
   "cell_type": "code",
   "execution_count": 168,
   "metadata": {
    "collapsed": true
   },
   "outputs": [],
   "source": [
    "male_df = complete_rows.copy()\n",
    "female_df = complete_rows.copy()"
   ]
  },
  {
   "cell_type": "code",
   "execution_count": 48,
   "metadata": {
    "collapsed": false
   },
   "outputs": [],
   "source": [
    "smaller_lr = drop_columns_for_lr(copy)"
   ]
  },
  {
   "cell_type": "markdown",
   "metadata": {},
   "source": [
    "# Since we reduced the dimensionality of the set we can now run logistic regression on the entire set smaller_lr"
   ]
  },
  {
   "cell_type": "code",
   "execution_count": 49,
   "metadata": {
    "collapsed": false
   },
   "outputs": [
    {
     "name": "stdout",
     "output_type": "stream",
     "text": [
      "Training accuracy: 0.637769322991\n",
      "Test accuracy: 0.636569924437\n"
     ]
    }
   ],
   "source": [
    "X, y = smaller_lr.iloc[:, 1:].values, smaller_lr.iloc[:, 0].values\n",
    "X_train, X_test, y_train, y_test = train_test_split(X, y, test_size=0.20, random_state=0)\n",
    "stdsc = StandardScaler()\n",
    "X_train_std = stdsc.fit_transform(X_train)\n",
    "X_test_std = stdsc.transform(X_test)\n",
    "LogisticRegression(penalty='l1')\n",
    "lr = LogisticRegression(penalty='l1', C=0.1)\n",
    "lr.fit(X_train_std, y_train)\n",
    "print('Training accuracy:', lr.score(X_train_std, y_train))\n",
    "print('Test accuracy:', lr.score(X_test_std, y_test))"
   ]
  },
  {
   "cell_type": "markdown",
   "metadata": {},
   "source": [
    "## We removed 10 dimensions but only lost ~1% in our accuracy which is amazing"
   ]
  },
  {
   "cell_type": "code",
   "execution_count": 50,
   "metadata": {
    "collapsed": true
   },
   "outputs": [],
   "source": [
    "def drop_columns_for_knn(df):\n",
    "    df.drop('SEX', axis=1, inplace=True)\n",
    "    df.drop('OFFGENERAL', axis=1, inplace=True)\n",
    "    df.drop('ADMITYR', axis=1, inplace=True)\n",
    "    df.drop('AGEADMIT', axis=1, inplace=True)\n",
    "    df.drop('RACE', axis=1, inplace=True)\n",
    "    df.drop('OFFDETAIL', axis=1, inplace=True)\n",
    "    df.drop('PROJ_PRISREL_YEAR', axis=1, inplace=True)\n",
    "    df.drop('AGERELEASE', axis=1, inplace=True)\n",
    "    df.drop('RELTYPE', axis=1, inplace=True)\n",
    "    df.drop('SENTLGTH', axis=1, inplace=True)\n",
    "    \n",
    "    return df"
   ]
  },
  {
   "cell_type": "code",
   "execution_count": 51,
   "metadata": {
    "collapsed": false
   },
   "outputs": [],
   "source": [
    "smaller_knn = drop_columns_for_knn(copy2)"
   ]
  },
  {
   "cell_type": "code",
   "execution_count": 97,
   "metadata": {
    "collapsed": true
   },
   "outputs": [],
   "source": [
    "knn_sample = smaller_knn.sample(frac=0.20, random_state=0)"
   ]
  },
  {
   "cell_type": "markdown",
   "metadata": {},
   "source": [
    "# Increase n_neighbors to 7 and doubled the sample size"
   ]
  },
  {
   "cell_type": "code",
   "execution_count": 98,
   "metadata": {
    "collapsed": false
   },
   "outputs": [
    {
     "name": "stdout",
     "output_type": "stream",
     "text": [
      "CPU times: user 1min 9s, sys: 677 ms, total: 1min 10s\n",
      "Wall time: 1min 20s\n"
     ]
    }
   ],
   "source": [
    "%%time\n",
    "X, y = knn_sample.iloc[:, 1:].values, knn_sample.iloc[:, 0].values\n",
    "X_train, X_test, y_train, y_test = train_test_split(X, y, test_size=0.20, random_state=0)\n",
    "stdsc = StandardScaler()\n",
    "X_train_std = stdsc.fit_transform(X_train)\n",
    "X_test_std = stdsc.transform(X_test)\n",
    "knn = KNeighborsClassifier(n_neighbors=7)\n",
    "sbs = SBS(knn, k_features=1)\n",
    "sbs.fit(X_train_std, y_train)"
   ]
  },
  {
   "cell_type": "code",
   "execution_count": 99,
   "metadata": {
    "collapsed": false
   },
   "outputs": [
    {
     "data": {
      "image/png": "[encoded data removed]",
      "text/plain": [
       "<matplotlib.figure.Figure at 0x1196a9fd0>"
      ]
     },
     "metadata": {},
     "output_type": "display_data"
    }
   ],
   "source": [
    "k_feat = [len(k) for k in sbs.subsets_]\n",
    "plt.plot(k_feat, sbs.scores_, marker='o')\n",
    "plt.ylim([0.5, 1.1])\n",
    "plt.ylabel('Accuracy')\n",
    "plt.xlabel('Number of features')\n",
    "plt.grid()\n",
    "plt.show()"
   ]
  },
  {
   "cell_type": "code",
   "execution_count": 100,
   "metadata": {
    "collapsed": false
   },
   "outputs": [
    {
     "data": {
      "text/plain": [
       "[0.74733378715679599,\n",
       " 0.73833295514711439,\n",
       " 0.71174646395885333,\n",
       " 0.6922320550639135,\n",
       " 0.66481355419408517,\n",
       " 0.61515770365327882]"
      ]
     },
     "execution_count": 100,
     "metadata": {},
     "output_type": "execute_result"
    }
   ],
   "source": [
    "sbs.scores_"
   ]
  },
  {
   "cell_type": "markdown",
   "metadata": {},
   "source": [
    "# KNN Another Try\n",
    "\n",
    "## Here I split the dataset into two seperate dataframes one for male prisoners and one for female. "
   ]
  },
  {
   "cell_type": "code",
   "execution_count": 151,
   "metadata": {
    "collapsed": false
   },
   "outputs": [],
   "source": [
    "def remove_women(df, string=False):\n",
    "    if string:\n",
    "        filter = df[\"SEX\"] != 'Female'\n",
    "    else:\n",
    "        filter = df[\"SEX\"] != 2\n",
    "    \n",
    "    df = df[filter]\n",
    "    return df\n",
    "\n",
    "def remove_men(df, string=False):\n",
    "    if string:\n",
    "        filter = df[\"SEX\"] != \"Male\"\n",
    "    else:\n",
    "        filter = df[\"SEX\"] != 1\n",
    "    \n",
    "    df = df[filter]\n",
    "    return df"
   ]
  },
  {
   "cell_type": "code",
   "execution_count": 169,
   "metadata": {
    "collapsed": true
   },
   "outputs": [],
   "source": [
    "male_df = remove_women(male_df)\n",
    "female_df = remove_men(female_df)\n",
    "male_df.drop('SEX', axis=1, inplace=True)\n",
    "female_df.drop('SEX', axis=1, inplace=True)"
   ]
  },
  {
   "cell_type": "markdown",
   "metadata": {},
   "source": [
    "## Now we can analyze each features value in the seperate dataframes to see if we can get better predictions or if different features become more or less valuable. "
   ]
  },
  {
   "cell_type": "markdown",
   "metadata": {},
   "source": [
    "# Men KNN"
   ]
  },
  {
   "cell_type": "code",
   "execution_count": 171,
   "metadata": {
    "collapsed": false
   },
   "outputs": [
    {
     "name": "stdout",
     "output_type": "stream",
     "text": [
      "CPU times: user 4min 42s, sys: 1.93 s, total: 4min 44s\n",
      "Wall time: 6min 24s\n"
     ]
    }
   ],
   "source": [
    "%%time\n",
    "male_sample = male_df.sample(frac=0.10, random_state=0) \n",
    "X, y = male_sample.iloc[:, 1:].values, male_sample.iloc[:, 0].values\n",
    "X_train, X_test, y_train, y_test = train_test_split(X, y, test_size=0.20, random_state=0)\n",
    "stdsc = StandardScaler()\n",
    "X_train_std = stdsc.fit_transform(X_train)\n",
    "X_test_std = stdsc.transform(X_test)\n",
    "knn = KNeighborsClassifier(n_neighbors=2)\n",
    "sbs = SBS(knn, k_features=1)\n",
    "sbs.fit(X_train_std, y_train)"
   ]
  },
  {
   "cell_type": "code",
   "execution_count": 172,
   "metadata": {
    "collapsed": false
   },
   "outputs": [
    {
     "data": {
      "image/png": "[encoded data removed]",
      "text/plain": [
       "<matplotlib.figure.Figure at 0x1168ec7b8>"
      ]
     },
     "metadata": {},
     "output_type": "display_data"
    }
   ],
   "source": [
    "k_feat = [len(k) for k in sbs.subsets_]\n",
    "plt.plot(k_feat, sbs.scores_, marker='o')\n",
    "plt.ylim([0.5, 1.1])\n",
    "plt.ylabel('Accuracy')\n",
    "plt.xlabel('Number of features')\n",
    "plt.grid()\n",
    "plt.show()"
   ]
  },
  {
   "cell_type": "code",
   "execution_count": 173,
   "metadata": {
    "collapsed": false
   },
   "outputs": [
    {
     "data": {
      "text/plain": [
       "[0.64500941619585683,\n",
       " 0.65639445300462251,\n",
       " 0.66777948981338808,\n",
       " 0.6776236945728471,\n",
       " 0.69688409518917993,\n",
       " 0.7060434857045027,\n",
       " 0.71828454031843858,\n",
       " 0.71905495634309191,\n",
       " 0.71888375278205785,\n",
       " 0.71819893853792161,\n",
       " 0.70338983050847459,\n",
       " 0.69482965245677109,\n",
       " 0.64526622153740798,\n",
       " 0.61462078411230958,\n",
       " 0.52996062318096215]"
      ]
     },
     "execution_count": 173,
     "metadata": {},
     "output_type": "execute_result"
    }
   ],
   "source": [
    "sbs.scores_"
   ]
  },
  {
   "cell_type": "markdown",
   "metadata": {},
   "source": [
    "## It appears that 6 features is still the best, let's see if they are the same six."
   ]
  },
  {
   "cell_type": "code",
   "execution_count": 176,
   "metadata": {
    "collapsed": false
   },
   "outputs": [
    {
     "name": "stdout",
     "output_type": "stream",
     "text": [
      "Index(['ADMTYPE', 'ADMITYR', 'MAND_PRISREL_YEAR', 'PARELIG_YEAR', 'TIMESRVD',\n",
      "       'STATE'],\n",
      "      dtype='object')\n"
     ]
    }
   ],
   "source": [
    "k1 = list(sbs.subsets_[9])\n",
    "print(male_sample.columns[1:][k1])"
   ]
  },
  {
   "cell_type": "markdown",
   "metadata": {},
   "source": [
    "### 'ADMTYPE', 'RELEASEYR', 'MAND_PRISREL_YEAR', 'PARELIG_YEAR', 'TIMESRVD', 'STATE'\n",
    "\n",
    "### VS\n",
    "\n",
    "### ADMTYPE', 'ADMITYR', 'MAND_PRISREL_YEAR', 'PARELIG_YEAR', 'TIMESRVD', 'STATE'\n",
    "\n",
    "The whole group and the male group share all but one common feature \"ADMITYR\". Interestingly the accuracy is almost exactly the same 71.7% vs 71.8%. "
   ]
  },
  {
   "cell_type": "markdown",
   "metadata": {},
   "source": [
    "# Men's Random Forest"
   ]
  },
  {
   "cell_type": "code",
   "execution_count": 186,
   "metadata": {
    "collapsed": true
   },
   "outputs": [],
   "source": [
    "feat_labels = male_sample.columns[1:]\n",
    "forest = RandomForestClassifier(n_estimators=1000, max_depth=7,  random_state=0, n_jobs=1)"
   ]
  },
  {
   "cell_type": "code",
   "execution_count": 187,
   "metadata": {
    "collapsed": false
   },
   "outputs": [
    {
     "name": "stdout",
     "output_type": "stream",
     "text": [
      " 1) ADMTYPE                        0.254524\n",
      " 2) OFFGENERAL                     0.213256\n",
      " 3) ADMITYR                        0.119919\n",
      " 4) RELEASEYR                      0.103387\n",
      " 5) MAND_PRISREL_YEAR              0.079867\n",
      " 6) PROJ_PRISREL_YEAR              0.047442\n",
      " 7) PARELIG_YEAR                   0.031747\n",
      " 8) SENTLGTH                       0.028873\n",
      " 9) OFFDETAIL                      0.027470\n",
      "10) RACE                           0.024640\n",
      "11) AGEADMIT                       0.024065\n",
      "12) AGERELEASE                     0.016338\n",
      "13) TIMESRVD                       0.010263\n",
      "14) RELTYPE                        0.009174\n",
      "15) STATE                          0.009035\n",
      "CPU times: user 33.4 s, sys: 227 ms, total: 33.6 s\n",
      "Wall time: 34.3 s\n"
     ]
    }
   ],
   "source": [
    "%%time\n",
    "forest.fit(X_train, y_train)\n",
    "importances = forest.feature_importances_\n",
    "indices = np.argsort(importances)[::-1]\n",
    "for f in range(X_train.shape[1]):\n",
    "    print (\"%2d) %-*s %f\" % (f + 1, 30, feat_labels[f], importances[indices[f]]))"
   ]
  },
  {
   "cell_type": "code",
   "execution_count": 188,
   "metadata": {
    "collapsed": false
   },
   "outputs": [
    {
     "data": {
      "image/png": "[encoded data removed]",
      "text/plain": [
       "<matplotlib.figure.Figure at 0x195f5df98>"
      ]
     },
     "metadata": {},
     "output_type": "display_data"
    }
   ],
   "source": [
    "plt.title('Feature Importances')\n",
    "plt.bar(range(X_train.shape[1]), importances[indices], color='#f4e242', align='center')\n",
    "plt.xticks(range(X_train.shape[1]), feat_labels, rotation=90)\n",
    "plt.xlim([-1, X_train.shape[1]])\n",
    "plt.tight_layout()\n",
    "plt.show()"
   ]
  },
  {
   "cell_type": "markdown",
   "metadata": {},
   "source": [
    "### Random forest classified feature importance in the exact same order even though the set only contains men now."
   ]
  },
  {
   "cell_type": "markdown",
   "metadata": {},
   "source": [
    "# Men's Logistic Regression"
   ]
  },
  {
   "cell_type": "code",
   "execution_count": 189,
   "metadata": {
    "collapsed": false
   },
   "outputs": [
    {
     "name": "stdout",
     "output_type": "stream",
     "text": [
      "Training accuracy: 0.644260400616\n",
      "Test accuracy: 0.639958911145\n"
     ]
    }
   ],
   "source": [
    "LogisticRegression(penalty='l1')\n",
    "lr = LogisticRegression(penalty='l1', C=0.1)\n",
    "lr.fit(X_train_std, y_train)\n",
    "print('Training accuracy:', lr.score(X_train_std, y_train))\n",
    "print('Test accuracy:', lr.score(X_test_std, y_test))"
   ]
  },
  {
   "cell_type": "markdown",
   "metadata": {},
   "source": [
    "### Almost exactly the same accuracy as before"
   ]
  },
  {
   "cell_type": "markdown",
   "metadata": {},
   "source": [
    "\n",
    "\n",
    "\n",
    "# Women's KNN"
   ]
  },
  {
   "cell_type": "code",
   "execution_count": 190,
   "metadata": {
    "collapsed": false
   },
   "outputs": [
    {
     "name": "stdout",
     "output_type": "stream",
     "text": [
      "CPU times: user 7min 39s, sys: 3.59 s, total: 7min 43s\n",
      "Wall time: 9min 52s\n"
     ]
    }
   ],
   "source": [
    "# Almost 10 minutes to run\n",
    "# Ran on entire group of women not a sample\n",
    "%%time\n",
    "X, y = female_df.iloc[:, 1:].values, female_df.iloc[:, 0].values\n",
    "X_train, X_test, y_train, y_test = train_test_split(X, y, test_size=0.20, random_state=0)\n",
    "stdsc = StandardScaler()\n",
    "X_train_std = stdsc.fit_transform(X_train)\n",
    "X_test_std = stdsc.transform(X_test)\n",
    "knn = KNeighborsClassifier(n_neighbors=5)\n",
    "sbs = SBS(knn, k_features=1)\n",
    "sbs.fit(X_train_std, y_train)"
   ]
  },
  {
   "cell_type": "code",
   "execution_count": 191,
   "metadata": {
    "collapsed": false
   },
   "outputs": [
    {
     "data": {
      "image/png": "[encoded data removed]",
      "text/plain": [
       "<matplotlib.figure.Figure at 0x1168faa90>"
      ]
     },
     "metadata": {},
     "output_type": "display_data"
    }
   ],
   "source": [
    "k_feat = [len(k) for k in sbs.subsets_]\n",
    "plt.plot(k_feat, sbs.scores_, marker='o')\n",
    "plt.ylim([0.5, 1.1])\n",
    "plt.ylabel('Accuracy')\n",
    "plt.xlabel('Number of features')\n",
    "plt.grid()\n",
    "plt.show()"
   ]
  },
  {
   "cell_type": "code",
   "execution_count": 192,
   "metadata": {
    "collapsed": false
   },
   "outputs": [
    {
     "data": {
      "text/plain": [
       "[0.71105478650809129,\n",
       " 0.72431273152661335,\n",
       " 0.72879703645934879,\n",
       " 0.73386625073113665,\n",
       " 0.73607590823422364,\n",
       " 0.74244492103723925,\n",
       " 0.74608435692467667,\n",
       " 0.74757912523558845,\n",
       " 0.74166504191850258,\n",
       " 0.73835055566387209,\n",
       " 0.721193215051667,\n",
       " 0.7213231949047898,\n",
       " 0.68037954117111843,\n",
       " 0.67790992396178595,\n",
       " 0.57529082992136216]"
      ]
     },
     "execution_count": 192,
     "metadata": {},
     "output_type": "execute_result"
    }
   ],
   "source": [
    "sbs.scores_"
   ]
  },
  {
   "cell_type": "markdown",
   "metadata": {},
   "source": [
    "## Eight features provides the best results with 74.75% accuracy which is a 3 percent improvement over the mens set and the total set."
   ]
  },
  {
   "cell_type": "code",
   "execution_count": 194,
   "metadata": {
    "collapsed": false
   },
   "outputs": [
    {
     "name": "stdout",
     "output_type": "stream",
     "text": [
      "Index(['ADMTYPE', 'RELEASEYR', 'MAND_PRISREL_YEAR', 'PARELIG_YEAR', 'SENTLGTH',\n",
      "       'TIMESRVD', 'RELTYPE', 'STATE'],\n",
      "      dtype='object')\n"
     ]
    }
   ],
   "source": [
    "k1 = list(sbs.subsets_[7])\n",
    "print(female_df.columns[1:][k1])"
   ]
  },
  {
   "cell_type": "markdown",
   "metadata": {},
   "source": [
    "## We see that the womens results vary in that there are two extra features \"SENTLGTH\" AND \"RELTYPE\" other than that the features are identical. So it appears there is some correlation between these values and repeat female offenders. "
   ]
  },
  {
   "cell_type": "markdown",
   "metadata": {},
   "source": [
    "# Women's Random Forest"
   ]
  },
  {
   "cell_type": "code",
   "execution_count": 195,
   "metadata": {
    "collapsed": true
   },
   "outputs": [],
   "source": [
    "feat_labels = female_df.columns[1:]\n",
    "forest = RandomForestClassifier(n_estimators=2000, max_depth=7,  random_state=0, n_jobs=1)"
   ]
  },
  {
   "cell_type": "code",
   "execution_count": 196,
   "metadata": {
    "collapsed": false
   },
   "outputs": [
    {
     "name": "stdout",
     "output_type": "stream",
     "text": [
      " 1) ADMTYPE                        0.215934\n",
      " 2) OFFGENERAL                     0.184211\n",
      " 3) ADMITYR                        0.176604\n",
      " 4) RELEASEYR                      0.117496\n",
      " 5) MAND_PRISREL_YEAR              0.070212\n",
      " 6) PROJ_PRISREL_YEAR              0.056362\n",
      " 7) PARELIG_YEAR                   0.050029\n",
      " 8) SENTLGTH                       0.035556\n",
      " 9) OFFDETAIL                      0.021846\n",
      "10) RACE                           0.019682\n",
      "11) AGEADMIT                       0.013907\n",
      "12) AGERELEASE                     0.013781\n",
      "13) TIMESRVD                       0.009618\n",
      "14) RELTYPE                        0.008661\n",
      "15) STATE                          0.006100\n",
      "CPU times: user 1min 34s, sys: 2.75 s, total: 1min 37s\n",
      "Wall time: 2min 22s\n"
     ]
    }
   ],
   "source": [
    "%%time\n",
    "forest.fit(X_train, y_train)\n",
    "importances = forest.feature_importances_\n",
    "indices = np.argsort(importances)[::-1]\n",
    "for f in range(X_train.shape[1]):\n",
    "    print (\"%2d) %-*s %f\" % (f + 1, 30, feat_labels[f], importances[indices[f]]))"
   ]
  },
  {
   "cell_type": "code",
   "execution_count": 197,
   "metadata": {
    "collapsed": false
   },
   "outputs": [
    {
     "data": {
      "image/png": "[encoded data removed]",
      "text/plain": [
       "<matplotlib.figure.Figure at 0x1182ee7b8>"
      ]
     },
     "metadata": {},
     "output_type": "display_data"
    }
   ],
   "source": [
    "plt.title('Feature Importances')\n",
    "plt.bar(range(X_train.shape[1]), importances[indices], color='#f4e242', align='center')\n",
    "plt.xticks(range(X_train.shape[1]), feat_labels, rotation=90)\n",
    "plt.xlim([-1, X_train.shape[1]])\n",
    "plt.tight_layout()\n",
    "plt.show()"
   ]
  },
  {
   "cell_type": "markdown",
   "metadata": {},
   "source": [
    "## Features are ranked in the same order as before. However, the first few features became less valuable and features such as sentence length became more valuable. "
   ]
  },
  {
   "cell_type": "markdown",
   "metadata": {},
   "source": [
    "# Women's Logistic Regression"
   ]
  },
  {
   "cell_type": "code",
   "execution_count": 199,
   "metadata": {
    "collapsed": false
   },
   "outputs": [
    {
     "name": "stdout",
     "output_type": "stream",
     "text": [
      "Training accuracy: 0.697083434885\n",
      "Test accuracy: 0.695392214207\n"
     ]
    }
   ],
   "source": [
    "LogisticRegression(penalty='l1')\n",
    "lr = LogisticRegression(penalty='l1', C=0.1)\n",
    "lr.fit(X_train_std, y_train)\n",
    "print('Training accuracy:', lr.score(X_train_std, y_train))\n",
    "print('Test accuracy:', lr.score(X_test_std, y_test))"
   ]
  },
  {
   "cell_type": "code",
   "execution_count": 201,
   "metadata": {
    "collapsed": true
   },
   "outputs": [],
   "source": [
    "def drop_columns_for_knn_women(df):\n",
    "    df.drop('OFFGENERAL', axis=1, inplace=True)\n",
    "    df.drop('ADMITYR', axis=1, inplace=True)\n",
    "    df.drop('AGEADMIT', axis=1, inplace=True)\n",
    "    df.drop('RACE', axis=1, inplace=True)\n",
    "    df.drop('OFFDETAIL', axis=1, inplace=True)\n",
    "    df.drop('PROJ_PRISREL_YEAR', axis=1, inplace=True)\n",
    "    df.drop('AGERELEASE', axis=1, inplace=True)\n",
    "    \n",
    "    return df"
   ]
  },
  {
   "cell_type": "code",
   "execution_count": 202,
   "metadata": {
    "collapsed": true
   },
   "outputs": [],
   "source": [
    "female_df = drop_columns_for_knn_women(female_df)"
   ]
  },
  {
   "cell_type": "code",
   "execution_count": 219,
   "metadata": {
    "collapsed": false
   },
   "outputs": [
    {
     "name": "stdout",
     "output_type": "stream",
     "text": [
      "CPU times: user 2.28 s, sys: 32.5 ms, total: 2.31 s\n",
      "Wall time: 2.4 s\n"
     ]
    }
   ],
   "source": [
    "%%time\n",
    "X, y = female_df.iloc[:, 1:].values, female_df.iloc[:, 0].values\n",
    "X_train, X_test, y_train, y_test = train_test_split(X, y, test_size=0.30, random_state=0)\n",
    "stdsc = StandardScaler()\n",
    "X_train_std = stdsc.fit_transform(X_train)\n",
    "X_test_std = stdsc.transform(X_test)\n",
    "knn = KNeighborsClassifier(n_neighbors=19)\n",
    "sbs = SBS(knn, k_features=8)\n",
    "sbs.fit(X_train_std, y_train)"
   ]
  },
  {
   "cell_type": "code",
   "execution_count": 220,
   "metadata": {
    "collapsed": false
   },
   "outputs": [
    {
     "data": {
      "text/plain": [
       "[0.76394562876030603]"
      ]
     },
     "execution_count": 220,
     "metadata": {},
     "output_type": "execute_result"
    }
   ],
   "source": [
    "sbs.scores_"
   ]
  },
  {
   "cell_type": "markdown",
   "metadata": {},
   "source": [
    "## Overall I am a little dissapointed that my results weren't more accurate. I do think machine learning presents interesting moral questions. Such as would it be acceptable to use an algorithm like this? How should it be used? How accurate does it need to be? It turns out that many states are currently using machine learning to help make parole decisions.  "
   ]
  },
  {
   "cell_type": "markdown",
   "metadata": {},
   "source": [
    "## More information can be found here\n",
    "http://www.wsj.com/articles/SB10001424052702304626104579121251595240852\n",
    "\n",
    "## Actual software company\n",
    "http://www.northpointeinc.com/products/northpointe-software-suite"
   ]
  },
  {
   "cell_type": "markdown",
   "metadata": {},
   "source": [
    "## I think that additional data about the prisoners, as well as more accurate data would provide more accurate results. Northpointe uses a survey that they have prisoners fill out as well as some additional data. "
   ]
  },
  {
   "cell_type": "code",
   "execution_count": null,
   "metadata": {
    "collapsed": true
   },
   "outputs": [],
   "source": []
  }
 ],
 "metadata": {
  "anaconda-cloud": {},
  "kernelspec": {
   "display_name": "Python [Root]",
   "language": "python",
   "name": "Python [Root]"
  },
  "language_info": {
   "codemirror_mode": {
    "name": "ipython",
    "version": 3
   },
   "file_extension": ".py",
   "mimetype": "text/x-python",
   "name": "python",
   "nbconvert_exporter": "python",
   "pygments_lexer": "ipython3",
   "version": "3.5.2"
  }
 },
 "nbformat": 4,
 "nbformat_minor": 0
}
